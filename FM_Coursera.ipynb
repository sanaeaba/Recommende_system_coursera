{
  "nbformat": 4,
  "nbformat_minor": 0,
  "metadata": {
    "colab": {
      "provenance": [],
      "authorship_tag": "ABX9TyMGeajTedx6oBpnvhuYtvjP",
      "include_colab_link": true
    },
    "kernelspec": {
      "name": "python3",
      "display_name": "Python 3"
    },
    "language_info": {
      "name": "python"
    }
  },
  "cells": [
    {
      "cell_type": "markdown",
      "metadata": {
        "id": "view-in-github",
        "colab_type": "text"
      },
      "source": [
        "<a href=\"https://colab.research.google.com/github/sanaeaba/Recommende_system_coursera/blob/master/FM_Coursera.ipynb\" target=\"_parent\"><img src=\"https://colab.research.google.com/assets/colab-badge.svg\" alt=\"Open In Colab\"/></a>"
      ]
    },
    {
      "cell_type": "code",
      "source": [
        "!pip install fastFM"
      ],
      "metadata": {
        "colab": {
          "base_uri": "https://localhost:8080/"
        },
        "id": "Bhk5nxyqB-aS",
        "outputId": "5db9ff74-6c4b-4c7f-d93b-f4771cd24072"
      },
      "execution_count": null,
      "outputs": [
        {
          "output_type": "stream",
          "name": "stdout",
          "text": [
            "Collecting fastFM\n",
            "  Downloading fastFM-0.2.10.tar.gz (1.6 MB)\n",
            "\u001b[2K     \u001b[90m━━━━━━━━━━━━━━━━━━━━━━━━━━━━━━━━━━━━━━━━\u001b[0m \u001b[32m1.6/1.6 MB\u001b[0m \u001b[31m17.8 MB/s\u001b[0m eta \u001b[36m0:00:00\u001b[0m\n",
            "\u001b[?25h  Preparing metadata (setup.py) ... \u001b[?25l\u001b[?25hdone\n",
            "Requirement already satisfied: numpy in /usr/local/lib/python3.10/dist-packages (from fastFM) (1.23.5)\n",
            "Requirement already satisfied: scikit-learn in /usr/local/lib/python3.10/dist-packages (from fastFM) (1.2.2)\n",
            "Requirement already satisfied: scipy in /usr/local/lib/python3.10/dist-packages (from fastFM) (1.11.3)\n",
            "Requirement already satisfied: cython in /usr/local/lib/python3.10/dist-packages (from fastFM) (3.0.4)\n",
            "Requirement already satisfied: joblib>=1.1.1 in /usr/local/lib/python3.10/dist-packages (from scikit-learn->fastFM) (1.3.2)\n",
            "Requirement already satisfied: threadpoolctl>=2.0.0 in /usr/local/lib/python3.10/dist-packages (from scikit-learn->fastFM) (3.2.0)\n",
            "Building wheels for collected packages: fastFM\n",
            "  Building wheel for fastFM (setup.py) ... \u001b[?25l\u001b[?25hdone\n",
            "  Created wheel for fastFM: filename=fastFM-0.2.10-cp310-cp310-linux_x86_64.whl size=591408 sha256=4ab0a80b5926e8d68b4f4975f7ae38ed840df5d9e42c329808a3c76b28d5cf22\n",
            "  Stored in directory: /root/.cache/pip/wheels/93/92/52/2da7997fcb7a7ce9042ff3b33836ef0c2fd47aa95382d7a113\n",
            "Successfully built fastFM\n",
            "Installing collected packages: fastFM\n",
            "Successfully installed fastFM-0.2.10\n"
          ]
        }
      ]
    },
    {
      "cell_type": "code",
      "source": [
        "import pandas as pd\n",
        "import numpy as np\n",
        "from sklearn.feature_extraction import DictVectorizer\n",
        "from sklearn.metrics import mean_squared_error, mean_absolute_error\n",
        "from fastFM import als\n",
        "from copy import deepcopy\n",
        "\n",
        "# Load the Coursera dataset (replace 'merged_coursera_dataset.csv' with the actual file path)\n",
        "data = pd.read_csv('merged_coursera_datase.csv')\n",
        "\n",
        "# Create feature vectors for user, course, Sentiment, and course_difficulty\n",
        "v = DictVectorizer()\n",
        "X = v.fit_transform(data[['user_id', 'course_id', 'Sentiment', 'course_difficulty']].to_dict(orient='records'))\n",
        "y = data['rating'].values\n",
        "\n",
        "# Split the data into training, validation, and test sets\n",
        "from sklearn.model_selection import train_test_split\n",
        "X_train, X_temp, y_train, y_temp = train_test_split(X, y, test_size=0.4, random_state=42)\n",
        "X_val, X_test, y_val, y_test = train_test_split(X_temp, y_temp, test_size=0.5, random_state=42)\n",
        "\n",
        "# Set hyperparameters\n",
        "batch_size = 512  # Define your desired batch size\n",
        "\n",
        "# Create and train a Factorization Machines model with batched training\n",
        "num_batches = X_train.shape[0] // batch_size\n",
        "fm = als.FMRegression(n_iter=40, l2_reg=0.01, init_stdev=0.01, rank=2)\n",
        "\n",
        "best_rmse = float('inf')\n",
        "best_mae = float('inf')\n",
        "best_fm_model = None\n",
        "\n",
        "for i in range(num_batches):\n",
        "    start = i * batch_size\n",
        "    end = (i + 1) * batch_size\n",
        "    X_batch = X_train[start:end]\n",
        "    y_batch = y_train[start:end]\n",
        "    fm.fit(X_batch, y_batch)\n",
        "\n",
        "    # Periodically evaluate the model on the validation set\n",
        "    if i % 10 == 0:\n",
        "        y_val_pred = fm.predict(X_val)\n",
        "        val_rmse = np.sqrt(mean_squared_error(y_val, y_val_pred))\n",
        "        val_mae = mean_absolute_error(y_val, y_val_pred)\n",
        "\n",
        "        if val_rmse < best_rmse:\n",
        "            best_rmse = val_rmse\n",
        "            best_mae = val_mae\n",
        "            best_fm_model = deepcopy(fm)\n",
        "\n",
        "# Use the best model on the test set\n",
        "y_test_pred = best_fm_model.predict(X_test)\n",
        "\n",
        "# Calculate RMSE and MAE on the test set\n",
        "test_rmse = np.sqrt(mean_squared_error(y_test, y_test_pred))\n",
        "test_mae = mean_absolute_error(y_test, y_test_pred)\n",
        "\n",
        "print(f\"RMSE on Test Set using Best Model: {test_rmse:.4f}\")\n",
        "print(f\"MAE on Test Set using Best Model: {test_mae:.4f}\")\n"
      ],
      "metadata": {
        "colab": {
          "base_uri": "https://localhost:8080/"
        },
        "id": "ZgArHbIfE0pw",
        "outputId": "c65926fe-1d86-463c-a970-7be4b81a8ef3"
      },
      "execution_count": null,
      "outputs": [
        {
          "output_type": "stream",
          "name": "stdout",
          "text": [
            "RMSE on Test Set using Best Model: 1.8657\n",
            "MAE on Test Set using Best Model: 1.3533\n"
          ]
        }
      ]
    }
  ]
}